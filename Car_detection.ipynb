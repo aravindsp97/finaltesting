{
  "nbformat": 4,
  "nbformat_minor": 0,
  "metadata": {
    "colab": {
      "name": "Car_detection.ipynb",
      "version": "0.3.2",
      "provenance": [],
      "collapsed_sections": [],
      "include_colab_link": true
    },
    "kernelspec": {
      "name": "python3",
      "display_name": "Python 3"
    }
  },
  "cells": [
    {
      "cell_type": "markdown",
      "metadata": {
        "id": "view-in-github",
        "colab_type": "text"
      },
      "source": [
        "<a href=\"https://colab.research.google.com/github/aravindsp97/finaltesting/blob/master/Car_detection.ipynb\" target=\"_parent\"><img src=\"https://colab.research.google.com/assets/colab-badge.svg\" alt=\"Open In Colab\"/></a>"
      ]
    },
    {
      "cell_type": "code",
      "metadata": {
        "id": "atQPNqOI-5DZ",
        "colab_type": "code",
        "colab": {
          "base_uri": "https://localhost:8080/",
          "height": 34
        },
        "outputId": "d8fca8b5-7f98-4bd4-dd5e-061ccec4687b"
      },
      "source": [
        "!git clone https://github.com/aravindsp97/last_test.git"
      ],
      "execution_count": 1,
      "outputs": [
        {
          "output_type": "stream",
          "text": [
            "fatal: destination path 'last_test' already exists and is not an empty directory.\n"
          ],
          "name": "stdout"
        }
      ]
    },
    {
      "cell_type": "code",
      "metadata": {
        "id": "qWedwZzn_U1a",
        "colab_type": "code",
        "colab": {
          "base_uri": "https://localhost:8080/",
          "height": 34
        },
        "outputId": "7ee22771-ce2a-41a6-88ce-8133031e933b"
      },
      "source": [
        "ls"
      ],
      "execution_count": 2,
      "outputs": [
        {
          "output_type": "stream",
          "text": [
            "\u001b[0m\u001b[01;34mlast_test\u001b[0m/  \u001b[01;34msample_data\u001b[0m/\n"
          ],
          "name": "stdout"
        }
      ]
    },
    {
      "cell_type": "code",
      "metadata": {
        "id": "rxQdspDyCBic",
        "colab_type": "code",
        "colab": {
          "base_uri": "https://localhost:8080/",
          "height": 34
        },
        "outputId": "78f6e3e4-513e-45be-a248-300b0988240b"
      },
      "source": [
        "cd last_test"
      ],
      "execution_count": 3,
      "outputs": [
        {
          "output_type": "stream",
          "text": [
            "/content/last_test\n"
          ],
          "name": "stdout"
        }
      ]
    },
    {
      "cell_type": "code",
      "metadata": {
        "id": "A1oeAIQsCEhy",
        "colab_type": "code",
        "colab": {
          "base_uri": "https://localhost:8080/",
          "height": 34
        },
        "outputId": "8896c027-7eb5-44a8-d007-e8d7f8ab2fba"
      },
      "source": [
        "ls"
      ],
      "execution_count": 4,
      "outputs": [
        {
          "output_type": "stream",
          "text": [
            "\u001b[0m\u001b[01;34mlast1_testing\u001b[0m/  README.md\n"
          ],
          "name": "stdout"
        }
      ]
    },
    {
      "cell_type": "code",
      "metadata": {
        "id": "Sn8RscKvCGaM",
        "colab_type": "code",
        "colab": {
          "base_uri": "https://localhost:8080/",
          "height": 34
        },
        "outputId": "312475f6-3f46-45b1-8512-e8a507f84de0"
      },
      "source": [
        "cd last1_testing/last2_testing/"
      ],
      "execution_count": 5,
      "outputs": [
        {
          "output_type": "stream",
          "text": [
            "/content/last_test/last1_testing/last2_testing\n"
          ],
          "name": "stdout"
        }
      ]
    },
    {
      "cell_type": "code",
      "metadata": {
        "id": "dvEPsz2ACP-6",
        "colab_type": "code",
        "colab": {
          "base_uri": "https://localhost:8080/",
          "height": 34
        },
        "outputId": "8c329612-910f-41e6-a789-ba9088795c10"
      },
      "source": [
        "cd finaltraining"
      ],
      "execution_count": 7,
      "outputs": [
        {
          "output_type": "stream",
          "text": [
            "/content/last_test/last1_testing/last2_testing/finaltraining\n"
          ],
          "name": "stdout"
        }
      ]
    },
    {
      "cell_type": "code",
      "metadata": {
        "id": "AHoKrMcnEAca",
        "colab_type": "code",
        "colab": {
          "base_uri": "https://localhost:8080/",
          "height": 34
        },
        "outputId": "0f225fce-c90d-44cf-d78e-53c307d0dbd1"
      },
      "source": [
        "cd final_training"
      ],
      "execution_count": 8,
      "outputs": [
        {
          "output_type": "stream",
          "text": [
            "/content/last_test/last1_testing/last2_testing/finaltraining/final_training\n"
          ],
          "name": "stdout"
        }
      ]
    },
    {
      "cell_type": "code",
      "metadata": {
        "id": "tUAaTZ8-EDd9",
        "colab_type": "code",
        "colab": {
          "base_uri": "https://localhost:8080/",
          "height": 34
        },
        "outputId": "5d0857d0-42d4-42af-d1d7-6a407c7fd0a5"
      },
      "source": [
        "cd train_cars"
      ],
      "execution_count": 9,
      "outputs": [
        {
          "output_type": "stream",
          "text": [
            "/content/last_test/last1_testing/last2_testing/finaltraining/final_training/train_cars\n"
          ],
          "name": "stdout"
        }
      ]
    },
    {
      "cell_type": "code",
      "metadata": {
        "id": "KGAP0U9kEJjW",
        "colab_type": "code",
        "colab": {
          "base_uri": "https://localhost:8080/",
          "height": 391
        },
        "outputId": "46225d8d-ab1b-4b01-ab3a-3062af645135"
      },
      "source": [
        "# importing libraries \n",
        "from keras.preprocessing.image import ImageDataGenerator \n",
        "from keras.models import Sequential \n",
        "from keras.layers import Conv2D, MaxPooling2D \n",
        "from keras.layers import Activation, Dropout, Flatten, Dense \n",
        "from keras import backend as K \n",
        "\n",
        "\n",
        "img_width, img_height = 224, 224\n",
        "\n",
        "train_data_dir = '/content/last_test/last1_testing/last2_testing/finaltraining'\n",
        "validation_data_dir = '/content/last_test/last1_testing/last2_testing'\n",
        "nb_train_samples = 400\n",
        "nb_validation_samples = 100\n",
        "epochs = 10\n",
        "batch_size = 16\n",
        "\n",
        "if K.image_data_format() == 'channels_first': \n",
        "\tinput_shape = (3, img_width, img_height) \n",
        "else: \n",
        "\tinput_shape = (img_width, img_height, 3) \n",
        "\n",
        "model = Sequential() \n",
        "model.add(Conv2D(32, (2, 2), input_shape = input_shape)) \n",
        "model.add(Activation('relu')) \n",
        "model.add(MaxPooling2D(pool_size =(2, 2))) \n",
        "\n",
        "model.add(Conv2D(32, (2, 2))) \n",
        "model.add(Activation('relu')) \n",
        "model.add(MaxPooling2D(pool_size =(2, 2))) \n",
        "\n",
        "model.add(Conv2D(64, (2, 2))) \n",
        "model.add(Activation('relu')) \n",
        "model.add(MaxPooling2D(pool_size =(2, 2))) \n",
        "\n",
        "model.add(Flatten()) \n",
        "model.add(Dense(64)) \n",
        "model.add(Activation('relu')) \n",
        "model.add(Dropout(0.5)) \n",
        "model.add(Dense(1)) \n",
        "model.add(Activation('sigmoid')) \n",
        "\n",
        "model.compile(loss ='binary_crossentropy', \n",
        "\t\t\t\t\toptimizer ='rmsprop', \n",
        "\t\t\t\tmetrics =['accuracy']) \n",
        "\n",
        "train_datagen = ImageDataGenerator( \n",
        "\t\t\t\trescale = 1. / 255, \n",
        "\t\t\t\tshear_range = 0.2, \n",
        "\t\t\t\tzoom_range = 0.2, \n",
        "\t\t\thorizontal_flip = True) \n",
        "\n",
        "test_datagen = ImageDataGenerator(rescale = 1. / 255) \n",
        "\n",
        "train_generator = train_datagen.flow_from_directory(train_data_dir, \n",
        "\t\t\t\t\t\t\ttarget_size =(img_width, img_height), \n",
        "\t\t\t\t\tbatch_size = batch_size, class_mode ='binary') \n",
        "\n",
        "validation_generator = test_datagen.flow_from_directory( \n",
        "\t\t\t\t\t\t\t\t\tvalidation_data_dir, \n",
        "\t\t\t\ttarget_size =(img_width, img_height), \n",
        "\t\tbatch_size = batch_size, class_mode ='binary') \n",
        "\n",
        "model.fit_generator(train_generator, \n",
        "\tsteps_per_epoch = nb_train_samples // batch_size, \n",
        "\tepochs = epochs, validation_data = validation_generator, \n",
        "\tvalidation_steps = nb_validation_samples // batch_size) \n",
        "\n",
        "model.save_weights('model_saved.h5')"
      ],
      "execution_count": 11,
      "outputs": [
        {
          "output_type": "stream",
          "text": [
            "Found 149 images belonging to 2 classes.\n",
            "Found 199 images belonging to 2 classes.\n",
            "Epoch 1/10\n",
            "25/25 [==============================] - 24s 953ms/step - loss: 0.0263 - acc: 0.9925 - val_loss: 12.1229 - val_acc: 0.2396\n",
            "Epoch 2/10\n",
            "25/25 [==============================] - 21s 823ms/step - loss: 3.5562e-07 - acc: 1.0000 - val_loss: 11.5983 - val_acc: 0.2708\n",
            "Epoch 3/10\n",
            "25/25 [==============================] - 21s 844ms/step - loss: 3.5952e-07 - acc: 1.0000 - val_loss: 11.1541 - val_acc: 0.2989\n",
            "Epoch 4/10\n",
            "25/25 [==============================] - 20s 818ms/step - loss: 4.7330e-07 - acc: 1.0000 - val_loss: 11.9568 - val_acc: 0.2500\n",
            "Epoch 5/10\n",
            "25/25 [==============================] - 21s 846ms/step - loss: 2.7393e-07 - acc: 1.0000 - val_loss: 11.7277 - val_acc: 0.2644\n",
            "Epoch 6/10\n",
            "25/25 [==============================] - 21s 822ms/step - loss: 1.1936e-07 - acc: 1.0000 - val_loss: 12.7871 - val_acc: 0.1979\n",
            "Epoch 7/10\n",
            "25/25 [==============================] - 21s 839ms/step - loss: 1.1921e-07 - acc: 1.0000 - val_loss: 11.9110 - val_acc: 0.2529\n",
            "Epoch 8/10\n",
            "25/25 [==============================] - 21s 823ms/step - loss: 5.2476e-07 - acc: 1.0000 - val_loss: 12.1229 - val_acc: 0.2396\n",
            "Epoch 9/10\n",
            "25/25 [==============================] - 21s 843ms/step - loss: 1.1921e-07 - acc: 1.0000 - val_loss: 11.5445 - val_acc: 0.2759\n",
            "Epoch 10/10\n",
            "25/25 [==============================] - 21s 826ms/step - loss: 1.1966e-07 - acc: 1.0000 - val_loss: 12.6211 - val_acc: 0.2083\n"
          ],
          "name": "stdout"
        }
      ]
    }
  ]
}